{
  "nbformat": 4,
  "nbformat_minor": 0,
  "metadata": {
    "colab": {
      "name": "pyWS1.ipynb",
      "provenance": [],
      "collapsed_sections": [],
      "authorship_tag": "ABX9TyM/rS8Zer3U8sbYMkU0lnEp",
      "include_colab_link": true
    },
    "kernelspec": {
      "name": "python3",
      "display_name": "Python 3"
    }
  },
  "cells": [
    {
      "cell_type": "markdown",
      "metadata": {
        "id": "view-in-github",
        "colab_type": "text"
      },
      "source": [
        "<a href=\"https://colab.research.google.com/github/shashank829/python_workshop/blob/main/pyWS1.ipynb\" target=\"_parent\"><img src=\"https://colab.research.google.com/assets/colab-badge.svg\" alt=\"Open In Colab\"/></a>"
      ]
    },
    {
      "cell_type": "code",
      "metadata": {
        "colab": {
          "base_uri": "https://localhost:8080/"
        },
        "id": "YHlWobqe3vA-",
        "outputId": "ea3bcc1c-543b-4246-bba6-b90844bac9af"
      },
      "source": [
        "x,y,z=\"apple\",\"orange\",\"cherry\"\r\n",
        "print(x)\r\n",
        "print(y)\r\n",
        "print(z)"
      ],
      "execution_count": 10,
      "outputs": [
        {
          "output_type": "stream",
          "text": [
            "apple\n",
            "orange\n",
            "cherry\n"
          ],
          "name": "stdout"
        }
      ]
    },
    {
      "cell_type": "markdown",
      "metadata": {
        "id": "nqDwLXm0Bo5y"
      },
      "source": [
        "#exercise 1\r\n"
      ]
    },
    {
      "cell_type": "code",
      "metadata": {
        "colab": {
          "base_uri": "https://localhost:8080/"
        },
        "id": "9EnGM6Nj_puU",
        "outputId": "c96fc51e-7680-4c0a-82c8-4bdc2babdc13"
      },
      "source": [
        "corname=\"volve\"\r\n",
        "print(corname)"
      ],
      "execution_count": 12,
      "outputs": [
        {
          "output_type": "stream",
          "text": [
            "volve\n"
          ],
          "name": "stdout"
        }
      ]
    },
    {
      "cell_type": "markdown",
      "metadata": {
        "id": "dJ7aWcyqB9B6"
      },
      "source": [
        "#exercise 2"
      ]
    },
    {
      "cell_type": "code",
      "metadata": {
        "colab": {
          "base_uri": "https://localhost:8080/"
        },
        "id": "YKuFrjk8B7gr",
        "outputId": "d2f7ff6a-d281-4409-d5cd-1a883a977282"
      },
      "source": [
        "x=50\r\n",
        "print(x)\r\n",
        "print(type(x))"
      ],
      "execution_count": 17,
      "outputs": [
        {
          "output_type": "stream",
          "text": [
            "50\n",
            "<class 'int'>\n"
          ],
          "name": "stdout"
        }
      ]
    },
    {
      "cell_type": "markdown",
      "metadata": {
        "id": "oWn9MoOXC9Hc"
      },
      "source": [
        "#exercise 3"
      ]
    },
    {
      "cell_type": "code",
      "metadata": {
        "colab": {
          "base_uri": "https://localhost:8080/"
        },
        "id": "a2clFecHCWBz",
        "outputId": "3d4daccd-8266-4d2a-bc41-b031f2014326"
      },
      "source": [
        "x,y=5,10\r\n",
        "print(x+y)"
      ],
      "execution_count": 19,
      "outputs": [
        {
          "output_type": "stream",
          "text": [
            "15\n"
          ],
          "name": "stdout"
        }
      ]
    },
    {
      "cell_type": "markdown",
      "metadata": {
        "id": "irEI1SlhDWoz"
      },
      "source": [
        "#exercise 4"
      ]
    },
    {
      "cell_type": "code",
      "metadata": {
        "colab": {
          "base_uri": "https://localhost:8080/"
        },
        "id": "HyPIIAAZDCG1",
        "outputId": "74e61082-733c-49c5-d2fa-989eddd2e8a4"
      },
      "source": [
        "x,y,z=11,17,x+y\r\n",
        "print(z)"
      ],
      "execution_count": 21,
      "outputs": [
        {
          "output_type": "stream",
          "text": [
            "28\n"
          ],
          "name": "stdout"
        }
      ]
    },
    {
      "cell_type": "code",
      "metadata": {
        "id": "qW2Xiqa7E18s"
      },
      "source": [
        "x1=\"Hello World\"\r\n",
        "x2=5\r\n",
        "x3=5.6\r\n",
        "x4=[\"apple\",\"bannana\",\"cherry\"]\r\n",
        "x5=(\"apple\",\"bannana\",\"cherry\")\r\n",
        "x6=range(6)\r\n",
        "x7={\"name\",\"johnwick\",\"age\"}\r\n",
        "x8={\"apple\",\"bannana\",\"cherry\"}\r\n",
        "x9=True"
      ],
      "execution_count": 26,
      "outputs": []
    },
    {
      "cell_type": "code",
      "metadata": {
        "colab": {
          "base_uri": "https://localhost:8080/"
        },
        "id": "JtAkMDg2Re9P",
        "outputId": "12cc1d8f-dab9-4300-c004-492c1d726a09"
      },
      "source": [
        "print(type(x1))\r\n",
        "print(type(x2))\r\n",
        "print(type(x3))\r\n",
        "print(type(x4))\r\n",
        "print(type(x5))\r\n",
        "print(type(x6))\r\n",
        "print(type(x7))\r\n",
        "print(type(x8))\r\n",
        "print(type(x9))"
      ],
      "execution_count": 28,
      "outputs": [
        {
          "output_type": "stream",
          "text": [
            "<class 'str'>\n",
            "<class 'int'>\n",
            "<class 'float'>\n",
            "<class 'list'>\n",
            "<class 'tuple'>\n",
            "<class 'range'>\n",
            "<class 'set'>\n",
            "<class 'set'>\n",
            "<class 'bool'>\n"
          ],
          "name": "stdout"
        }
      ]
    },
    {
      "cell_type": "code",
      "metadata": {
        "colab": {
          "base_uri": "https://localhost:8080/"
        },
        "id": "nmEmhQXVS9uI",
        "outputId": "d2acf37f-dcb5-4aa1-d74d-1fc1a153dcb0"
      },
      "source": [
        "x=5+6j\r\n",
        "print(type(x))"
      ],
      "execution_count": 33,
      "outputs": [
        {
          "output_type": "stream",
          "text": [
            "<class 'complex'>\n"
          ],
          "name": "stdout"
        }
      ]
    },
    {
      "cell_type": "code",
      "metadata": {
        "colab": {
          "base_uri": "https://localhost:8080/"
        },
        "id": "tfAMhs4PWxVB",
        "outputId": "d7463ac6-e11b-43e9-8875-3c8195578b99"
      },
      "source": [
        "x=range(9)\r\n",
        "for n in x:\r\n",
        "   print(n)"
      ],
      "execution_count": 34,
      "outputs": [
        {
          "output_type": "stream",
          "text": [
            "0\n",
            "1\n",
            "2\n",
            "3\n",
            "4\n",
            "5\n",
            "6\n",
            "7\n",
            "8\n"
          ],
          "name": "stdout"
        }
      ]
    },
    {
      "cell_type": "code",
      "metadata": {
        "colab": {
          "base_uri": "https://localhost:8080/"
        },
        "id": "HHU3tbqTW91H",
        "outputId": "045b2840-9af3-4b08-f24d-e1127417df8f"
      },
      "source": [
        "x={1,2,4,5,2,9,4}\r\n",
        "print(x)"
      ],
      "execution_count": 35,
      "outputs": [
        {
          "output_type": "stream",
          "text": [
            "{1, 2, 4, 5, 9}\n"
          ],
          "name": "stdout"
        }
      ]
    },
    {
      "cell_type": "code",
      "metadata": {
        "colab": {
          "base_uri": "https://localhost:8080/"
        },
        "id": "jTH3O83HYeyH",
        "outputId": "31a4960a-1fb8-428b-c42b-60eaa2789a27"
      },
      "source": [
        "x,y,z=1,2.0,1.j\r\n",
        "a,b,c=float(x),int(y),complex(z)\r\n",
        "print(a)\r\n",
        "print(b)\r\n",
        "print(c)\r\n",
        "\r\n"
      ],
      "execution_count": 38,
      "outputs": [
        {
          "output_type": "stream",
          "text": [
            "1.0\n",
            "2\n",
            "1j\n"
          ],
          "name": "stdout"
        }
      ]
    },
    {
      "cell_type": "markdown",
      "metadata": {
        "id": "XlB2MRfQa3HA"
      },
      "source": [
        "#excercise5"
      ]
    },
    {
      "cell_type": "code",
      "metadata": {
        "colab": {
          "base_uri": "https://localhost:8080/"
        },
        "id": "KUOZI7d9aVg5",
        "outputId": "bc9badda-f87c-425a-ccb5-30e88406ea82"
      },
      "source": [
        "x,y=str(2),str(3)\r\n",
        "print(\"x+y=\"+ x+y)"
      ],
      "execution_count": 43,
      "outputs": [
        {
          "output_type": "stream",
          "text": [
            "x+y=23\n"
          ],
          "name": "stdout"
        }
      ]
    },
    {
      "cell_type": "code",
      "metadata": {
        "colab": {
          "base_uri": "https://localhost:8080/"
        },
        "id": "Lo2OyqRtdyQh",
        "outputId": "7b0eb87b-f701-4ae7-c1f0-5a592a4356ca"
      },
      "source": [
        "name=\"jay\"\r\n",
        "print(name)\r\n",
        "print(type(name))\r\n",
        "print(len(name))"
      ],
      "execution_count": 49,
      "outputs": [
        {
          "output_type": "stream",
          "text": [
            "jay\n",
            "<class 'str'>\n",
            "3\n"
          ],
          "name": "stdout"
        }
      ]
    },
    {
      "cell_type": "code",
      "metadata": {
        "colab": {
          "base_uri": "https://localhost:8080/"
        },
        "id": "SpwebFVzfa2k",
        "outputId": "44ca00b4-eefd-43ca-aaab-889b1a9526bc"
      },
      "source": [
        "text=\"pawan is a big mental\"\r\n",
        "print(\"pawan\"in text)\r\n",
        "print(text[0:5])\r\n",
        "print(text[-5:-1])"
      ],
      "execution_count": 61,
      "outputs": [
        {
          "output_type": "stream",
          "text": [
            "True\n",
            "pawan\n",
            "enta\n"
          ],
          "name": "stdout"
        }
      ]
    },
    {
      "cell_type": "code",
      "metadata": {
        "colab": {
          "base_uri": "https://localhost:8080/"
        },
        "id": "jq-jOvF9hxYi",
        "outputId": "8053d505-be95-45ed-9eac-5e361b98fd03"
      },
      "source": [
        "text=\"Shashank Shetty\"\r\n",
        "print(text.upper())\r\n",
        "print(text.lower())"
      ],
      "execution_count": 63,
      "outputs": [
        {
          "output_type": "stream",
          "text": [
            "SHASHANK SHETTY\n",
            "shashank shetty\n"
          ],
          "name": "stdout"
        }
      ]
    },
    {
      "cell_type": "code",
      "metadata": {
        "colab": {
          "base_uri": "https://localhost:8080/"
        },
        "id": "gx70yh_PidYy",
        "outputId": "b5a51d0d-76c0-4166-def1-850d29d99659"
      },
      "source": [
        "a,b=\"pawan\",\" marle\"\r\n",
        "print(a+b)"
      ],
      "execution_count": 65,
      "outputs": [
        {
          "output_type": "stream",
          "text": [
            "pawan marle\n"
          ],
          "name": "stdout"
        }
      ]
    },
    {
      "cell_type": "code",
      "metadata": {
        "colab": {
          "base_uri": "https://localhost:8080/"
        },
        "id": "gOmjcF3NjuXz",
        "outputId": "f64e2f7f-4533-4e38-a28c-c07b59e392eb"
      },
      "source": [
        "age=20\r\n",
        "txt=\"my name is shashank and my age is {}\"\r\n",
        "print(txt.format(age ))"
      ],
      "execution_count": 69,
      "outputs": [
        {
          "output_type": "stream",
          "text": [
            "my name is shashank and my age is 20\n"
          ],
          "name": "stdout"
        }
      ]
    },
    {
      "cell_type": "code",
      "metadata": {
        "colab": {
          "base_uri": "https://localhost:8080/"
        },
        "id": "WUwn09UCkf8N",
        "outputId": "7302b33a-1149-42fc-e408-65cbb06f1642"
      },
      "source": [
        "a=\"hello\\nworld\"\r\n",
        "b=\"hello\\tworld\"\r\n",
        "print(a)\r\n",
        "print(b)"
      ],
      "execution_count": 70,
      "outputs": [
        {
          "output_type": "stream",
          "text": [
            "hello\n",
            "world\n",
            "hello\tworld\n"
          ],
          "name": "stdout"
        }
      ]
    },
    {
      "cell_type": "code",
      "metadata": {
        "colab": {
          "base_uri": "https://localhost:8080/"
        },
        "id": "5-OvE4e5k4ri",
        "outputId": "07421f82-0dee-439d-9b62-14278ebf9d2d"
      },
      "source": [
        "a=\"shashank shetty\"\r\n",
        "print(a.capitalize())\r\n",
        "print(a.isupper())\r\n",
        "print(a.isalpha())"
      ],
      "execution_count": 77,
      "outputs": [
        {
          "output_type": "stream",
          "text": [
            "Shashank shetty\n",
            "False\n",
            "False\n"
          ],
          "name": "stdout"
        }
      ]
    },
    {
      "cell_type": "code",
      "metadata": {
        "colab": {
          "base_uri": "https://localhost:8080/"
        },
        "id": "JFpFe29K2TMG",
        "outputId": "ce976468-f22d-438d-e488-33d0111dedf9"
      },
      "source": [
        "name=input(\"enter the name\\n\")\r\n",
        "print(len(name))\r\n",
        "print(name[0:4])\r\n",
        "print(name.upper())\r\n",
        "b=\" college\"\r\n",
        "c=\"alvas{}\"\r\n",
        "print(name+b)\r\n",
        "print(c.format(b))\r\n",
        "print(name.isdigit())"
      ],
      "execution_count": 86,
      "outputs": [
        {
          "output_type": "stream",
          "text": [
            "enter the name\n",
            "alvas\n",
            "5\n",
            "alva\n",
            "ALVAS\n",
            "alvas college\n",
            "alvas college\n",
            "False\n"
          ],
          "name": "stdout"
        }
      ]
    },
    {
      "cell_type": "code",
      "metadata": {
        "colab": {
          "base_uri": "https://localhost:8080/"
        },
        "id": "7O5TtU1E6ZZH",
        "outputId": "f7b3b5c8-a3e7-46ca-a994-6a9d217423a2"
      },
      "source": [
        "print(10>50)\r\n",
        "print(16%5)\r\n",
        "print(16+5)\r\n",
        "print(16-5)\r\n",
        "print(16*5)\r\n",
        "print(16/5)"
      ],
      "execution_count": 104,
      "outputs": [
        {
          "output_type": "stream",
          "text": [
            "False\n",
            "1\n",
            "21\n",
            "11\n",
            "80\n",
            "3.2\n"
          ],
          "name": "stdout"
        }
      ]
    },
    {
      "cell_type": "code",
      "metadata": {
        "colab": {
          "base_uri": "https://localhost:8080/"
        },
        "id": "FVwHDxgn7WRc",
        "outputId": "f9e39621-a57c-4a8e-f043-31f65a03f75e"
      },
      "source": [
        "x=int(input(\"enter x\"))\r\n",
        "y=int(input(\"enter y\"))\r\n",
        "print(x+y)\r\n",
        "print(x-y)\r\n",
        "print(x*y)\r\n",
        "print(x/y)\r\n",
        "print(x%y)\r\n",
        "\r\n",
        "\r\n",
        "\r\n",
        "\r\n"
      ],
      "execution_count": 116,
      "outputs": [
        {
          "output_type": "stream",
          "text": [
            "enter x10\n",
            "enter y5\n",
            "15\n",
            "5\n",
            "50\n",
            "2.0\n",
            "0\n"
          ],
          "name": "stdout"
        }
      ]
    },
    {
      "cell_type": "code",
      "metadata": {
        "colab": {
          "base_uri": "https://localhost:8080/"
        },
        "id": "3kj8Q-WKEqKn",
        "outputId": "47197fc2-df6a-4c88-9022-90f4567bce3b"
      },
      "source": [
        "L=list((\"ece\",\"cse\",\"ise\"))\r\n",
        "print(L)\r\n"
      ],
      "execution_count": 127,
      "outputs": [
        {
          "output_type": "stream",
          "text": [
            "['ece', 'cse', 'ise']\n"
          ],
          "name": "stdout"
        }
      ]
    },
    {
      "cell_type": "code",
      "metadata": {
        "colab": {
          "base_uri": "https://localhost:8080/"
        },
        "id": "2Rjx1k5BGKfw",
        "outputId": "a8bbd957-b505-48fc-f6a7-c6e8073ad676"
      },
      "source": [
        "l=[\"ece\",\"cse\",\"isc\",\"civ\",\"mec\"]\r\n",
        "print(l[2:5])\r\n",
        "print(l[2:3])"
      ],
      "execution_count": 134,
      "outputs": [
        {
          "output_type": "stream",
          "text": [
            "['isc', 'civ', 'mec']\n",
            "['isc']\n"
          ],
          "name": "stdout"
        }
      ]
    },
    {
      "cell_type": "code",
      "metadata": {
        "colab": {
          "base_uri": "https://localhost:8080/"
        },
        "id": "WDoDBCNTHYEu",
        "outputId": "3d3f8600-58d2-4bb3-f590-d24215ab23cc"
      },
      "source": [
        "thislist=[\"apple\",\"bannana\",\"cherry\"]\r\n",
        "tropical=[\"mango\",\"pineapple\",\"papaya\"]\r\n",
        "print(len(thislist))\r\n",
        "print(len(tropical))\r\n",
        "thislist.append(\"orange\")\r\n",
        "newlist=thislist+tropical\r\n",
        "print(len(newlist))\r\n",
        "print(thislist)\r\n",
        "print(len(thislist))\r\n",
        "print(newlist)\r\n",
        "thislist.pop(2)\r\n",
        "print(thislist)"
      ],
      "execution_count": 144,
      "outputs": [
        {
          "output_type": "stream",
          "text": [
            "3\n",
            "3\n",
            "7\n",
            "['apple', 'bannana', 'cherry', 'orange']\n",
            "4\n",
            "['apple', 'bannana', 'cherry', 'orange', 'mango', 'pineapple', 'papaya']\n",
            "['apple', 'bannana', 'orange']\n"
          ],
          "name": "stdout"
        }
      ]
    },
    {
      "cell_type": "code",
      "metadata": {
        "colab": {
          "base_uri": "https://localhost:8080/"
        },
        "id": "6Vb5KDK1KrY5",
        "outputId": "39042bfb-8393-4e78-f61d-248fe6edf711"
      },
      "source": [
        "a=[45,42,86,485,8,999]\r\n",
        "a.sort(reverse=True)\r\n",
        "print(a)"
      ],
      "execution_count": 147,
      "outputs": [
        {
          "output_type": "stream",
          "text": [
            "[999, 485, 86, 45, 42, 8]\n"
          ],
          "name": "stdout"
        }
      ]
    },
    {
      "cell_type": "code",
      "metadata": {
        "colab": {
          "base_uri": "https://localhost:8080/"
        },
        "id": "rH238PgEMjkI",
        "outputId": "d1f28b79-241e-423a-dd2e-cf1f2dadc30e"
      },
      "source": [
        "namelist=[\"harsh\",\"prathik\",\"bob\",\"druv\"]\r\n",
        "print (namelist[1])"
      ],
      "execution_count": 149,
      "outputs": [
        {
          "output_type": "stream",
          "text": [
            "prathik\n"
          ],
          "name": "stdout"
        }
      ]
    },
    {
      "cell_type": "code",
      "metadata": {
        "colab": {
          "base_uri": "https://localhost:8080/"
        },
        "id": "fsHkC58oNUSQ",
        "outputId": "259e9a0f-4f9a-41b9-9a8d-a4faa10c6c2b"
      },
      "source": [
        "animal=[\"cat\",'dog',\"fish\",\"goat\"]\r\n",
        "age=[1,2,2,6]\r\n",
        "animal.append(age)\r\n",
        "print(animal)\r\n",
        "animal=[\"cat\",'dog',\"fish\",\"goat\"]\r\n",
        "newlist=animal+age\r\n",
        "print(newlist)\r\n",
        "\r\n"
      ],
      "execution_count": 161,
      "outputs": [
        {
          "output_type": "stream",
          "text": [
            "['cat', 'dog', 'fish', 'goat', [1, 2, 2, 6]]\n",
            "['cat', 'dog', 'fish', 'goat', 1, 2, 2, 6]\n"
          ],
          "name": "stdout"
        }
      ]
    },
    {
      "cell_type": "code",
      "metadata": {
        "colab": {
          "base_uri": "https://localhost:8080/"
        },
        "id": "tjENepdDOOpK",
        "outputId": "a66d18e2-ce78-4b7c-b04e-0ca67bd6a2b1"
      },
      "source": [
        "age=[1,2,3,6]\r\n",
        "age.append(9)\r\n",
        "print(age)\r\n",
        "age.pop(2)\r\n",
        "print(age)\r\n",
        "age.count(3)"
      ],
      "execution_count": 158,
      "outputs": [
        {
          "output_type": "stream",
          "text": [
            "[1, 2, 3, 6, 9]\n",
            "[1, 2, 6, 9]\n"
          ],
          "name": "stdout"
        },
        {
          "output_type": "execute_result",
          "data": {
            "text/plain": [
              "0"
            ]
          },
          "metadata": {
            "tags": []
          },
          "execution_count": 158
        }
      ]
    },
    {
      "cell_type": "markdown",
      "metadata": {
        "id": "IawjxJYdROZW"
      },
      "source": [
        "#python tuple"
      ]
    },
    {
      "cell_type": "code",
      "metadata": {
        "colab": {
          "base_uri": "https://localhost:8080/"
        },
        "id": "HhUaUDTWFlc0",
        "outputId": "408ddaf1-a49b-4bed-9da5-45b851b6e437"
      },
      "source": [
        "x=(\"apple\",\"orange\",\"cherry\")\r\n",
        "y=list(x)\r\n",
        "y[1]=\"kiwi\"\r\n",
        "x=tuple(y)\r\n",
        "print(type(x))\r\n",
        "print(type(y))"
      ],
      "execution_count": 163,
      "outputs": [
        {
          "output_type": "stream",
          "text": [
            "<class 'tuple'>\n",
            "<class 'list'>\n"
          ],
          "name": "stdout"
        }
      ]
    },
    {
      "cell_type": "code",
      "metadata": {
        "colab": {
          "base_uri": "https://localhost:8080/"
        },
        "id": "TcddoHOqUZX7",
        "outputId": "6e55fdca-dd04-4f74-d362-c1a9bcad5dd4"
      },
      "source": [
        "fruit=(\"apple\",\"bannana\",\"cherry\")\r\n",
        "y=list(fruit)\r\n",
        "y.append(\"banana\")\r\n",
        "print(y)\r\n"
      ],
      "execution_count": 164,
      "outputs": [
        {
          "output_type": "stream",
          "text": [
            "['apple', 'bannana', 'cherry', 'banana']\n"
          ],
          "name": "stdout"
        }
      ]
    }
  ]
}