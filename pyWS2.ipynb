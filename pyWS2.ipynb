{
  "nbformat": 4,
  "nbformat_minor": 0,
  "metadata": {
    "colab": {
      "name": "pyWS2.ipynb",
      "provenance": [],
      "collapsed_sections": [],
      "authorship_tag": "ABX9TyPtRjqUxs7oCEb5Ew+RcK/b",
      "include_colab_link": true
    },
    "kernelspec": {
      "name": "python3",
      "display_name": "Python 3"
    }
  },
  "cells": [
    {
      "cell_type": "markdown",
      "metadata": {
        "id": "view-in-github",
        "colab_type": "text"
      },
      "source": [
        "<a href=\"https://colab.research.google.com/github/shashank829/python_workshop/blob/main/pyWS2.ipynb\" target=\"_parent\"><img src=\"https://colab.research.google.com/assets/colab-badge.svg\" alt=\"Open In Colab\"/></a>"
      ]
    },
    {
      "cell_type": "code",
      "metadata": {
        "colab": {
          "base_uri": "https://localhost:8080/"
        },
        "id": "Cc6G6FCp8Rdu",
        "outputId": "c8e9edf9-bc5f-4874-91ce-a428063f5de9"
      },
      "source": [
        "numbers={1,2,3,4}\r\n",
        "print(numbers)"
      ],
      "execution_count": 5,
      "outputs": [
        {
          "output_type": "stream",
          "text": [
            "{1, 2, 3, 4}\n"
          ],
          "name": "stdout"
        }
      ]
    },
    {
      "cell_type": "markdown",
      "metadata": {
        "id": "yFQzZBIfCmt2"
      },
      "source": [
        "#set"
      ]
    },
    {
      "cell_type": "code",
      "metadata": {
        "colab": {
          "base_uri": "https://localhost:8080/"
        },
        "id": "hSDtEdQS_Iys",
        "outputId": "d0905bec-625c-470c-a8b9-ff1fba507666"
      },
      "source": [
        "a=set(('ece','cse','ise','civ'))\r\n",
        "print(a)\r\n",
        "print(len(a))\r\n",
        "a.add(\"mech\")\r\n",
        "print(a)\r\n",
        "a.add(\"cse\")\r\n",
        "print(a)\r\n",
        "print(len(a))\r\n",
        "a.remove('cse')\r\n",
        "print(a)\r\n",
        "a.discard('ise')\r\n",
        "print(a)\r\n",
        "deleted=a.pop()\r\n",
        "print(deleted)\r\n"
      ],
      "execution_count": 17,
      "outputs": [
        {
          "output_type": "stream",
          "text": [
            "{'ise', 'cse', 'ece', 'civ'}\n",
            "4\n",
            "{'cse', 'ise', 'mech', 'ece', 'civ'}\n",
            "{'cse', 'ise', 'mech', 'ece', 'civ'}\n",
            "5\n",
            "{'ise', 'mech', 'ece', 'civ'}\n",
            "{'mech', 'ece', 'civ'}\n",
            "mech\n"
          ],
          "name": "stdout"
        }
      ]
    },
    {
      "cell_type": "code",
      "metadata": {
        "colab": {
          "base_uri": "https://localhost:8080/"
        },
        "id": "cWUEOvoWC2KP",
        "outputId": "74dc2526-792c-42af-c53e-d788b15083b5"
      },
      "source": [
        "a={\"a\",\"b\",\"c\"}\r\n",
        "b={\"1\",\"2\",\"3\"}\r\n",
        "set3=a.union(b)\r\n",
        "print(len(set3))\r\n",
        "a.update(b)\r\n",
        "print(a)"
      ],
      "execution_count": 21,
      "outputs": [
        {
          "output_type": "stream",
          "text": [
            "6\n",
            "{'a', 'b', 'c', '1', '3', '2'}\n"
          ],
          "name": "stdout"
        }
      ]
    },
    {
      "cell_type": "code",
      "metadata": {
        "colab": {
          "base_uri": "https://localhost:8080/"
        },
        "id": "6iX2UCtWCDfo",
        "outputId": "139ec94d-faf2-498a-dc6e-90536c4d8790"
      },
      "source": [
        "a=set((\"apple\",\"bannana\",\"cherry\"))\r\n",
        "a.clear()\r\n",
        "print(len(a))"
      ],
      "execution_count": 19,
      "outputs": [
        {
          "output_type": "stream",
          "text": [
            "0\n"
          ],
          "name": "stdout"
        }
      ]
    },
    {
      "cell_type": "code",
      "metadata": {
        "colab": {
          "base_uri": "https://localhost:8080/"
        },
        "id": "jZ5vCefwEnPQ",
        "outputId": "ef2eba40-18ba-4c2b-fcc8-6b72d0d03280"
      },
      "source": [
        "a=[\"a\",\"b\",\"c\",\"a\"]\r\n",
        "s=set(a)\r\n",
        "print(s)"
      ],
      "execution_count": 28,
      "outputs": [
        {
          "output_type": "stream",
          "text": [
            "{'a', 'b', 'c'}\n"
          ],
          "name": "stdout"
        }
      ]
    },
    {
      "cell_type": "code",
      "metadata": {
        "colab": {
          "base_uri": "https://localhost:8080/"
        },
        "id": "4WcjBO-CFfjI",
        "outputId": "f7e83ac3-dfa0-446c-e32f-9d42402125d0"
      },
      "source": [
        "a={\"apple\",\"bannana\",\"cherry\"}\r\n",
        "b={\"kiwi\",\"mango\",\"grapes\"}\r\n",
        "a.add(\"orange\")\r\n",
        "print(a)\r\n",
        "a.update(b)\r\n",
        "print(a)\r\n",
        "a.remove(\"bannana\")\r\n",
        "print(a)\r\n",
        "a.discard(\"cherry\")\r\n",
        "print(a)"
      ],
      "execution_count": 37,
      "outputs": [
        {
          "output_type": "stream",
          "text": [
            "{'bannana', 'apple', 'orange', 'cherry'}\n",
            "{'grapes', 'cherry', 'mango', 'bannana', 'apple', 'orange', 'kiwi'}\n",
            "{'grapes', 'cherry', 'mango', 'apple', 'orange', 'kiwi'}\n",
            "{'grapes', 'mango', 'apple', 'orange', 'kiwi'}\n"
          ],
          "name": "stdout"
        }
      ]
    },
    {
      "cell_type": "code",
      "metadata": {
        "colab": {
          "base_uri": "https://localhost:8080/"
        },
        "id": "iw2yM0bzHkiz",
        "outputId": "54f18b16-776e-4b70-91b8-3e870c5856d0"
      },
      "source": [
        "a=set([\"1\",\"2\",\"1\",\"2\",\"3\"])\r\n",
        "print(len(a))"
      ],
      "execution_count": 39,
      "outputs": [
        {
          "output_type": "stream",
          "text": [
            "3\n"
          ],
          "name": "stdout"
        }
      ]
    },
    {
      "cell_type": "code",
      "metadata": {
        "colab": {
          "base_uri": "https://localhost:8080/"
        },
        "id": "PnI2nIrYI5qg",
        "outputId": "c781ccb5-7f4e-417a-b381-5720d007af8e"
      },
      "source": [
        "today={\r\n",
        "    \"day\": \"thursday\",\r\n",
        "    \"date\": \"7/01/2021\",\r\n",
        "    \"mounth\": \"january\",\r\n",
        "}\r\n",
        "print(today)\r\n",
        "print(len(today))\r\n",
        "print(today[\"day\"])\r\n",
        "print(today[\"date\"])\r\n",
        "print(today[\"mounth\"])\r\n",
        "x=today.keys()\r\n",
        "print(x)\r\n",
        "print(today.values())\r\n",
        "today[\"day\"]=25\r\n",
        "print(today[\"day\"])\r\n",
        "today[\"colour\"]=\"red\"\r\n",
        "print(today)\r\n",
        "today.pop(\"mounth\")\r\n",
        "print(today)\r\n",
        "\r\n"
      ],
      "execution_count": 80,
      "outputs": [
        {
          "output_type": "stream",
          "text": [
            "{'day': 'thursday', 'date': '7/01/2021', 'mounth': 'january'}\n",
            "3\n",
            "thursday\n",
            "7/01/2021\n",
            "january\n",
            "dict_keys(['day', 'date', 'mounth'])\n",
            "dict_values(['thursday', '7/01/2021', 'january'])\n",
            "25\n",
            "{'day': 25, 'date': '7/01/2021', 'mounth': 'january', 'colour': 'red'}\n",
            "{'day': 25, 'date': '7/01/2021', 'colour': 'red'}\n"
          ],
          "name": "stdout"
        }
      ]
    },
    {
      "cell_type": "markdown",
      "metadata": {
        "id": "hY8qYRQ5Y7lo"
      },
      "source": [
        "#if"
      ]
    },
    {
      "cell_type": "code",
      "metadata": {
        "colab": {
          "base_uri": "https://localhost:8080/"
        },
        "id": "OprmbnSiKU3D",
        "outputId": "f6c3b4a0-0954-4cdb-8e73-195fe73d51a8"
      },
      "source": [
        "a=33\r\n",
        "b=200\r\n",
        "if b>a:\r\n",
        "   print(\"b is greater than a\")"
      ],
      "execution_count": 84,
      "outputs": [
        {
          "output_type": "stream",
          "text": [
            "b is greater than a\n"
          ],
          "name": "stdout"
        }
      ]
    },
    {
      "cell_type": "markdown",
      "metadata": {
        "id": "u7JE3trqZx2g"
      },
      "source": [
        "#elif"
      ]
    },
    {
      "cell_type": "code",
      "metadata": {
        "colab": {
          "base_uri": "https://localhost:8080/"
        },
        "id": "SQlYR80vbtah",
        "outputId": "251227d3-0e09-4641-e53e-eb300c64bada"
      },
      "source": [
        "a,b,c=int(input(\"enter the no a\")),int(input(\"enter the no b\")),int(input(\"enter the no c\"))\r\n",
        "if a>b:\r\n",
        "  if a>c:\r\n",
        "    print(\"a is greater\")\r\n",
        "elif b>c:\r\n",
        "     print(\"b is greater\")\r\n",
        "else :\r\n",
        "     print(\"c is greater\")\r\n"
      ],
      "execution_count": 105,
      "outputs": [
        {
          "output_type": "stream",
          "text": [
            "enter the no a50\n",
            "enter the no b100\n",
            "enter the no c25\n",
            "b is greater\n"
          ],
          "name": "stdout"
        }
      ]
    },
    {
      "cell_type": "code",
      "metadata": {
        "colab": {
          "base_uri": "https://localhost:8080/"
        },
        "id": "RYMmxI0-ZwH1",
        "outputId": "6fea36be-0886-428b-c102-c450cfd48bce"
      },
      "source": [
        "a=33\r\n",
        "b=33\r\n",
        "if b>a:\r\n",
        "   print(\"b is greater than a\")\r\n",
        "elif a==b:\r\n",
        "     print(\"a is equal to b\")\r\n",
        "else:\r\n",
        "    print(\"a is greater than b\")"
      ],
      "execution_count": 92,
      "outputs": [
        {
          "output_type": "stream",
          "text": [
            "a is equal to b\n"
          ],
          "name": "stdout"
        }
      ]
    },
    {
      "cell_type": "code",
      "metadata": {
        "colab": {
          "base_uri": "https://localhost:8080/"
        },
        "id": "2Nf0JBL4iJcb",
        "outputId": "1ec7086a-cd13-4170-b7ec-ec04f0097fa3"
      },
      "source": [
        "n=int(input())\r\n",
        "sum,i=0,0\r\n",
        "while i<=n:\r\n",
        "      sum=sum+i\r\n",
        "      i+=1\r\n",
        "print(sum)"
      ],
      "execution_count": 118,
      "outputs": [
        {
          "output_type": "stream",
          "text": [
            "5\n",
            "15\n"
          ],
          "name": "stdout"
        }
      ]
    },
    {
      "cell_type": "code",
      "metadata": {
        "colab": {
          "base_uri": "https://localhost:8080/"
        },
        "id": "im9DNKH3kwWT",
        "outputId": "b8b9f2da-596a-4bd6-ded7-1542e8706846"
      },
      "source": [
        "n=int(input())\r\n",
        "sum=0\r\n",
        "while n>=0:\r\n",
        "      sum=sum+n\r\n",
        "      n-=1\r\n",
        "print(sum)"
      ],
      "execution_count": 122,
      "outputs": [
        {
          "output_type": "stream",
          "text": [
            "5\n",
            "15\n"
          ],
          "name": "stdout"
        }
      ]
    },
    {
      "cell_type": "code",
      "metadata": {
        "colab": {
          "base_uri": "https://localhost:8080/"
        },
        "id": "3irDbp21lFLT",
        "outputId": "2303410c-9076-463f-f958-d4ff08c83a2d"
      },
      "source": [
        "a=(\"a\",\"b\",\"c\",\"d\",\"e\")\r\n",
        "for x in a:\r\n",
        "  print(x)\r\n",
        "   "
      ],
      "execution_count": 126,
      "outputs": [
        {
          "output_type": "stream",
          "text": [
            "a\n",
            "b\n",
            "c\n",
            "d\n",
            "e\n"
          ],
          "name": "stdout"
        }
      ]
    },
    {
      "cell_type": "code",
      "metadata": {
        "colab": {
          "base_uri": "https://localhost:8080/"
        },
        "id": "8NQh8XhDmZSN",
        "outputId": "8f027ea7-ebe1-4245-805a-0a964c02a3ee"
      },
      "source": [
        "for x in range (2,30,2):\r\n",
        "  print(x)"
      ],
      "execution_count": 134,
      "outputs": [
        {
          "output_type": "stream",
          "text": [
            "2\n",
            "4\n",
            "6\n",
            "8\n",
            "10\n",
            "12\n",
            "14\n",
            "16\n",
            "18\n",
            "20\n",
            "22\n",
            "24\n",
            "26\n",
            "28\n"
          ],
          "name": "stdout"
        }
      ]
    },
    {
      "cell_type": "code",
      "metadata": {
        "colab": {
          "base_uri": "https://localhost:8080/"
        },
        "id": "aG71L7WwnuL2",
        "outputId": "e887d485-1d0a-4217-911f-32f1aa5c959e"
      },
      "source": [
        "a=(\"a\",\"b\",\"c\",\"d\",\"e\")\r\n",
        "b={\"kiwi\",\"mango\",\"grapes\"}\r\n",
        "for x in a:\r\n",
        "  for y in b:\r\n",
        "    print(x,y)\r\n"
      ],
      "execution_count": 135,
      "outputs": [
        {
          "output_type": "stream",
          "text": [
            "a grapes\n",
            "a kiwi\n",
            "a mango\n",
            "b grapes\n",
            "b kiwi\n",
            "b mango\n",
            "c grapes\n",
            "c kiwi\n",
            "c mango\n",
            "d grapes\n",
            "d kiwi\n",
            "d mango\n",
            "e grapes\n",
            "e kiwi\n",
            "e mango\n"
          ],
          "name": "stdout"
        }
      ]
    },
    {
      "cell_type": "code",
      "metadata": {
        "colab": {
          "base_uri": "https://localhost:8080/"
        },
        "id": "6Onk5AIDoo2C",
        "outputId": "55395705-d6f0-46e6-9825-0158ef2abbaa"
      },
      "source": [
        "a=int(input())\r\n",
        "odd=[]\r\n",
        "even=[]\r\n",
        "for i in range(1,a):\r\n",
        "  if (i%2==0):\r\n",
        "     even.append(i)\r\n",
        "  else:\r\n",
        "      odd.append(i)\r\n",
        "print(even)\r\n",
        "print(odd)       \r\n",
        "\r\n"
      ],
      "execution_count": 146,
      "outputs": [
        {
          "output_type": "stream",
          "text": [
            "10\n",
            "[2, 4, 6, 8]\n",
            "[1, 3, 5, 7, 9]\n"
          ],
          "name": "stdout"
        }
      ]
    },
    {
      "cell_type": "code",
      "metadata": {
        "colab": {
          "base_uri": "https://localhost:8080/"
        },
        "id": "ag7Z4bdwuzFA",
        "outputId": "846b22e7-1bcd-4caf-f539-1a75cb7f9f3e"
      },
      "source": [
        "a=int(input())\r\n",
        "odd=[]\r\n",
        "even=[]\r\n",
        "for i in range(1,a+1,2):\r\n",
        "    odd.append(i)\r\n",
        "    even.append(i+1)\r\n",
        "print(even)\r\n",
        "print(odd)       \r\n"
      ],
      "execution_count": 147,
      "outputs": [
        {
          "output_type": "stream",
          "text": [
            "10\n",
            "[2, 4, 6, 8, 10]\n",
            "[1, 3, 5, 7, 9]\n"
          ],
          "name": "stdout"
        }
      ]
    },
    {
      "cell_type": "code",
      "metadata": {
        "colab": {
          "base_uri": "https://localhost:8080/"
        },
        "id": "qAp4Fm8eA405",
        "outputId": "5739d50c-a541-41a6-d9da-e6660dc624d2"
      },
      "source": [
        "l=[]\r\n",
        "for i in range(1,21):\r\n",
        "  l.append(i)\r\n",
        "print(l)"
      ],
      "execution_count": 151,
      "outputs": [
        {
          "output_type": "stream",
          "text": [
            "[1, 2, 3, 4, 5, 6, 7, 8, 9, 10, 11, 12, 13, 14, 15, 16, 17, 18, 19, 20]\n"
          ],
          "name": "stdout"
        }
      ]
    },
    {
      "cell_type": "code",
      "metadata": {
        "colab": {
          "base_uri": "https://localhost:8080/"
        },
        "id": "vm7opnkdC_Kr",
        "outputId": "353af1e6-2dc1-454d-8812-ef1efb217a10"
      },
      "source": [
        "lst=[i*i for i in range(1,21)]\r\n",
        "print(lst)"
      ],
      "execution_count": 157,
      "outputs": [
        {
          "output_type": "stream",
          "text": [
            "[1, 4, 9, 16, 25, 36, 49, 64, 81, 100, 121, 144, 169, 196, 225, 256, 289, 324, 361, 400]\n"
          ],
          "name": "stdout"
        }
      ]
    },
    {
      "cell_type": "code",
      "metadata": {
        "colab": {
          "base_uri": "https://localhost:8080/"
        },
        "id": "pO9-OffkDpCx",
        "outputId": "0ccaf743-332d-4aec-976d-a0862f7a82c2"
      },
      "source": [
        "for x in range(0,10,2):\r\n",
        "  print(x)"
      ],
      "execution_count": 160,
      "outputs": [
        {
          "output_type": "stream",
          "text": [
            "0\n",
            "2\n",
            "4\n",
            "6\n",
            "8\n"
          ],
          "name": "stdout"
        }
      ]
    },
    {
      "cell_type": "code",
      "metadata": {
        "colab": {
          "base_uri": "https://localhost:8080/"
        },
        "id": "8SnVYDD4EGQq",
        "outputId": "5374ddca-d936-4278-80b0-4754ee27fa34"
      },
      "source": [
        "evenlist=[i for i in range(1,21) if (i%2)==0]\r\n",
        "print(evenlist)"
      ],
      "execution_count": 163,
      "outputs": [
        {
          "output_type": "stream",
          "text": [
            "[2, 4, 6, 8, 10, 12, 14, 16, 18, 20]\n"
          ],
          "name": "stdout"
        }
      ]
    },
    {
      "cell_type": "code",
      "metadata": {
        "colab": {
          "base_uri": "https://localhost:8080/"
        },
        "id": "lHQxDFaAE7eL",
        "outputId": "6c7be14a-115c-4cc0-d707-881baa43bf70"
      },
      "source": [
        "oddlist=[i*i for i in range(1,21) if (i%2)==1]\r\n",
        "print(oddlist)"
      ],
      "execution_count": 165,
      "outputs": [
        {
          "output_type": "stream",
          "text": [
            "[1, 9, 25, 49, 81, 121, 169, 225, 289, 361]\n"
          ],
          "name": "stdout"
        }
      ]
    },
    {
      "cell_type": "code",
      "metadata": {
        "colab": {
          "base_uri": "https://localhost:8080/"
        },
        "id": "eh3RKTbyFUAt",
        "outputId": "8c66eddb-528e-4594-cb7e-f3a8bc9a59af"
      },
      "source": [
        "if -1:\r\n",
        "  print(\"shashank\")\r\n",
        "else:\r\n",
        "    print(\"shetty\")\r\n"
      ],
      "execution_count": 171,
      "outputs": [
        {
          "output_type": "stream",
          "text": [
            "shashank\n"
          ],
          "name": "stdout"
        }
      ]
    },
    {
      "cell_type": "code",
      "metadata": {
        "colab": {
          "base_uri": "https://localhost:8080/"
        },
        "id": "n0ZFMnPkF_G0",
        "outputId": "b7ae11ce-792c-4122-f1ac-30a3e75f6549"
      },
      "source": [
        "a=[1,2,3,4,5]\r\n",
        "print(all(a))\r\n",
        "b=[0,3,4,2]\r\n",
        "print(all(b))"
      ],
      "execution_count": 172,
      "outputs": [
        {
          "output_type": "stream",
          "text": [
            "True\n",
            "False\n"
          ],
          "name": "stdout"
        }
      ]
    },
    {
      "cell_type": "code",
      "metadata": {
        "colab": {
          "base_uri": "https://localhost:8080/"
        },
        "id": "cYzGj4eMLjv1",
        "outputId": "efd60937-732c-44d0-a393-f08fe18af863"
      },
      "source": [
        "primelist=[i for i in range(2,21) if all(i%j!=0 for j in range(2,i))]\r\n",
        "print(primelist)"
      ],
      "execution_count": 191,
      "outputs": [
        {
          "output_type": "stream",
          "text": [
            "[2, 3, 5, 7, 11, 13, 17, 19]\n"
          ],
          "name": "stdout"
        }
      ]
    },
    {
      "cell_type": "code",
      "metadata": {
        "colab": {
          "base_uri": "https://localhost:8080/"
        },
        "id": "YxUeAEEKM70W",
        "outputId": "050e92dc-dc95-4b08-e89a-821a30a8194f"
      },
      "source": [
        "print(all(i%j!=0 for j in range(2,7)))"
      ],
      "execution_count": 192,
      "outputs": [
        {
          "output_type": "stream",
          "text": [
            "False\n"
          ],
          "name": "stdout"
        }
      ]
    },
    {
      "cell_type": "code",
      "metadata": {
        "colab": {
          "base_uri": "https://localhost:8080/"
        },
        "id": "BdvQd3cSOgRP",
        "outputId": "85dd8b1e-b674-48f8-8d3a-5677aa3ed729"
      },
      "source": [
        "lst=[i*i for i in range(1,26) if (i*i<=25)]\r\n",
        "print(lst)"
      ],
      "execution_count": 196,
      "outputs": [
        {
          "output_type": "stream",
          "text": [
            "[1, 4, 9, 16, 25]\n"
          ],
          "name": "stdout"
        }
      ]
    },
    {
      "cell_type": "code",
      "metadata": {
        "colab": {
          "base_uri": "https://localhost:8080/"
        },
        "id": "Qytxvy2TXy7N",
        "outputId": "7de477bd-9edd-42a1-85c2-695332ba147d"
      },
      "source": [
        "def my_function(a,b,c=3):\r\n",
        " print(a,b,c)\r\n",
        "my_function(\"jack\",\"jill\")"
      ],
      "execution_count": 207,
      "outputs": [
        {
          "output_type": "stream",
          "text": [
            "jack jill 3\n"
          ],
          "name": "stdout"
        }
      ]
    },
    {
      "cell_type": "code",
      "metadata": {
        "colab": {
          "base_uri": "https://localhost:8080/"
        },
        "id": "llY1xge4c6s0",
        "outputId": "8f06d9c9-a9e2-4408-9cd0-63a8aa05cef7"
      },
      "source": [
        "lst=[\"pawan\",\"shashank\",\"sushanth\"]\r\n",
        "print(lst)"
      ],
      "execution_count": 208,
      "outputs": [
        {
          "output_type": "stream",
          "text": [
            "['pawan', 'shashank', 'sushanth']\n"
          ],
          "name": "stdout"
        }
      ]
    },
    {
      "cell_type": "code",
      "metadata": {
        "colab": {
          "base_uri": "https://localhost:8080/"
        },
        "id": "iMcUbBgxdSE_",
        "outputId": "7bdb9e4b-efc1-4ff3-e96c-3e4c587d7e82"
      },
      "source": [
        "x,y=int(input(\"enter chem marks\")),int(input(\"enter phy marks\"))\r\n",
        "print(\"shashank\",str(x+y))\r\n",
        "\r\n"
      ],
      "execution_count": 213,
      "outputs": [
        {
          "output_type": "stream",
          "text": [
            "enter chem marks5\n",
            "enter phy marks8\n",
            "shashank 13\n"
          ],
          "name": "stdout"
        }
      ]
    },
    {
      "cell_type": "code",
      "metadata": {
        "id": "RCiBoFvne-rc"
      },
      "source": [
        "def marks(name0):\r\n",
        "  phy=int(input(\"enter\" + name + \"phy marks\"))\r\n",
        "  chem=int(input(\"enter\" + name +\"chem marks\"))\r\n",
        "  return phy + chem\r\n",
        "  st[\"jack\",\"jill\",\"abhi\",\"shashank\"]\r\n",
        "  for i in st:\r\n",
        "     print(marks(i))"
      ],
      "execution_count": 220,
      "outputs": []
    }
  ]
}